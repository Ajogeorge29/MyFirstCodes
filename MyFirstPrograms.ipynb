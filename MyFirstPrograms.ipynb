{
 "cells": [
  {
   "cell_type": "code",
   "execution_count": 1,
   "id": "7bc4d544-b162-4569-931e-f5077c33234d",
   "metadata": {},
   "outputs": [],
   "source": [
    "#Sum of two numbers"
   ]
  },
  {
   "cell_type": "code",
   "execution_count": 3,
   "id": "d841c5c2-180c-4a01-bbd6-b564cf1c7bd6",
   "metadata": {},
   "outputs": [
    {
     "name": "stdin",
     "output_type": "stream",
     "text": [
      "enter first number 1\n",
      "enter second number 2\n"
     ]
    },
    {
     "name": "stdout",
     "output_type": "stream",
     "text": [
      "3\n"
     ]
    }
   ],
   "source": [
    "first = input(\"enter first number\")\n",
    "Second = input (\"enter second number\")\n",
    "sum = int (first)+ int (Second)\n",
    "print (sum)"
   ]
  },
  {
   "cell_type": "code",
   "execution_count": 9,
   "id": "cd42c4cc-a074-4d0c-8f56-b1242994d4a4",
   "metadata": {},
   "outputs": [
    {
     "name": "stdout",
     "output_type": "stream",
     "text": [
      "the sum is : 3\n"
     ]
    }
   ],
   "source": [
    "print ( \"the sum is : \" + str(sum))"
   ]
  },
  {
   "cell_type": "code",
   "execution_count": null,
   "id": "a0f84605-c112-4f8a-a3b6-05bd36d6ab97",
   "metadata": {},
   "outputs": [],
   "source": [
    "# capitalize input"
   ]
  },
  {
   "cell_type": "code",
   "execution_count": 10,
   "id": "d9d74d42-5a43-46fd-9ccb-b503ef0767e1",
   "metadata": {},
   "outputs": [],
   "source": [
    "name = \"Tony stark\"\n"
   ]
  },
  {
   "cell_type": "code",
   "execution_count": 11,
   "id": "f7dbc7bc-5233-4e04-939d-610233a4e77b",
   "metadata": {},
   "outputs": [
    {
     "name": "stdout",
     "output_type": "stream",
     "text": [
      "TONY STARK\n"
     ]
    }
   ],
   "source": [
    "print(name.upper())"
   ]
  },
  {
   "cell_type": "code",
   "execution_count": null,
   "id": "c3a07862-0b7b-461e-bd89-d70c169eeb36",
   "metadata": {},
   "outputs": [],
   "source": [
    "# Assess location of alphbet"
   ]
  },
  {
   "cell_type": "code",
   "execution_count": 13,
   "id": "8610d49a-bc60-4e7d-8db2-adc530f298e7",
   "metadata": {},
   "outputs": [
    {
     "name": "stdout",
     "output_type": "stream",
     "text": [
      "5\n"
     ]
    }
   ],
   "source": [
    "print(name.find(\"s\"))"
   ]
  },
  {
   "cell_type": "code",
   "execution_count": 16,
   "id": "405a2b5b-d1ff-48fb-a6c8-babbc6ba3173",
   "metadata": {},
   "outputs": [
    {
     "name": "stdout",
     "output_type": "stream",
     "text": [
      "5\n"
     ]
    }
   ],
   "source": [
    "print(name.find(\"stark\"))"
   ]
  },
  {
   "cell_type": "code",
   "execution_count": null,
   "id": "d5c6a8e3-76a0-44c4-bcd4-3d1c64a4b15b",
   "metadata": {},
   "outputs": [],
   "source": [
    "#replace function"
   ]
  },
  {
   "cell_type": "code",
   "execution_count": 18,
   "id": "1ca1d2f5-b33f-4c42-9e83-2f8fee7f0615",
   "metadata": {},
   "outputs": [
    {
     "name": "stdout",
     "output_type": "stream",
     "text": [
      "Tony stark\n"
     ]
    }
   ],
   "source": [
    "print(name)"
   ]
  },
  {
   "cell_type": "code",
   "execution_count": 19,
   "id": "8f76b3b9-2c36-4f22-9117-ba655d9886a7",
   "metadata": {},
   "outputs": [
    {
     "name": "stdout",
     "output_type": "stream",
     "text": [
      "Tony Ironman\n"
     ]
    }
   ],
   "source": [
    "print(name.replace(\"stark\",\"Ironman\"))"
   ]
  },
  {
   "cell_type": "code",
   "execution_count": 20,
   "id": "abfd7d47-1313-4559-9901-2f498b68cc91",
   "metadata": {},
   "outputs": [
    {
     "name": "stdout",
     "output_type": "stream",
     "text": [
      "True\n"
     ]
    }
   ],
   "source": [
    "print(\"T\" in name)"
   ]
  },
  {
   "cell_type": "code",
   "execution_count": 21,
   "id": "68023e6d-53d9-4c7c-8d18-4d724a3e8258",
   "metadata": {},
   "outputs": [
    {
     "name": "stdout",
     "output_type": "stream",
     "text": [
      "False\n"
     ]
    }
   ],
   "source": [
    "print (\"m\" in name)"
   ]
  },
  {
   "cell_type": "code",
   "execution_count": null,
   "id": "95c139c2-5aa3-43a2-ab60-8b7668182ee6",
   "metadata": {},
   "outputs": [],
   "source": [
    "#operators in python"
   ]
  },
  {
   "cell_type": "code",
   "execution_count": 22,
   "id": "1f46fb34-8b03-4e54-baf2-f539e7d18954",
   "metadata": {},
   "outputs": [
    {
     "name": "stdout",
     "output_type": "stream",
     "text": [
      "8\n"
     ]
    }
   ],
   "source": [
    "print (5 + 3)"
   ]
  },
  {
   "cell_type": "code",
   "execution_count": 23,
   "id": "6658d696-640e-462a-a444-f3f83a46b3fc",
   "metadata": {},
   "outputs": [
    {
     "name": "stdout",
     "output_type": "stream",
     "text": [
      "2.0\n"
     ]
    }
   ],
   "source": [
    "print (6 / 3)"
   ]
  },
  {
   "cell_type": "code",
   "execution_count": 24,
   "id": "51cc4c4d-c32f-40b9-ab71-3ceb057abd8d",
   "metadata": {},
   "outputs": [
    {
     "name": "stdout",
     "output_type": "stream",
     "text": [
      "3\n"
     ]
    }
   ],
   "source": [
    "print (10//3)"
   ]
  },
  {
   "cell_type": "code",
   "execution_count": 25,
   "id": "d6b43911-c71d-4c1b-9cd1-ac0b8c4c9367",
   "metadata": {},
   "outputs": [
    {
     "name": "stdout",
     "output_type": "stream",
     "text": [
      "1\n"
     ]
    }
   ],
   "source": [
    "print(3%2)"
   ]
  },
  {
   "cell_type": "code",
   "execution_count": 26,
   "id": "295b7cfb-2240-4fd0-b79b-293fe13dd86a",
   "metadata": {},
   "outputs": [
    {
     "name": "stdout",
     "output_type": "stream",
     "text": [
      "9\n"
     ]
    }
   ],
   "source": [
    "print (3**2)\n"
   ]
  },
  {
   "cell_type": "code",
   "execution_count": null,
   "id": "0345ca0d-b172-4f24-8e75-86704889e692",
   "metadata": {},
   "outputs": [],
   "source": [
    "#BODMAS rule and application "
   ]
  },
  {
   "cell_type": "code",
   "execution_count": 27,
   "id": "8effad1e-e36a-48b4-b3ef-ca64869ff565",
   "metadata": {},
   "outputs": [
    {
     "name": "stdout",
     "output_type": "stream",
     "text": [
      "9\n"
     ]
    }
   ],
   "source": [
    "result= 3*2+3\n",
    "print(result)"
   ]
  },
  {
   "cell_type": "code",
   "execution_count": null,
   "id": "b256df19-4a7f-4849-92e6-2824d419dcee",
   "metadata": {},
   "outputs": [],
   "source": [
    "#assessment of various logical operators"
   ]
  },
  {
   "cell_type": "code",
   "execution_count": 33,
   "id": "4ae42ee7-cabe-4169-92a3-41d721f8a9ba",
   "metadata": {},
   "outputs": [
    {
     "name": "stdout",
     "output_type": "stream",
     "text": [
      "ur an adult\n",
      "u can vote\n",
      "thanks\n"
     ]
    }
   ],
   "source": [
    "age=19\n",
    "if age>=18:\n",
    "    print (\"ur an adult\")\n",
    "    print (\"u can vote\")\n",
    "    print(\"ur eligil\n",
    "print (\"thanks\")"
   ]
  },
  {
   "cell_type": "code",
   "execution_count": null,
   "id": "8703f7d6-5415-4601-b7c4-6d86048d1189",
   "metadata": {},
   "outputs": [],
   "source": [
    "#mini project: Calculator"
   ]
  },
  {
   "cell_type": "code",
   "execution_count": 35,
   "id": "84b467e9-a433-4d21-8b09-17feea77fef6",
   "metadata": {},
   "outputs": [
    {
     "name": "stdin",
     "output_type": "stream",
     "text": [
      "enter first number 5\n",
      "enter operator (+,-,*,/):  /\n",
      "enter second number :  2\n"
     ]
    },
    {
     "name": "stdout",
     "output_type": "stream",
     "text": [
      "2.5\n"
     ]
    }
   ],
   "source": [
    "first= input (\"enter first number\")\n",
    "operator= input(\"enter operator (+,-,*,/): \")\n",
    "second= input(\"enter second number : \")\n",
    "first  = int(first)\n",
    "second = int(second)\n",
    "if operator == \"+\":\n",
    "    print (first+second)\n",
    "elif operator == \"-\": \n",
    "    print (first- second)\n",
    "elif operator == \"*\":\n",
    "    print(first* second)\n",
    "elif operator == \"/\":\n",
    "    print(first/second)\n",
    "elif operator == \"%\":\n",
    "    print(first% second)\n",
    "\n",
    "else:\n",
    "    print(\"Invalid\")\n",
    "    "
   ]
  },
  {
   "cell_type": "code",
   "execution_count": null,
   "id": "59702ade-e00b-4bef-affc-64303fa30e5e",
   "metadata": {},
   "outputs": [],
   "source": [
    "#Range function"
   ]
  },
  {
   "cell_type": "code",
   "execution_count": 36,
   "id": "97d71337-99af-450c-b104-4fb390e1fa88",
   "metadata": {},
   "outputs": [
    {
     "name": "stdout",
     "output_type": "stream",
     "text": [
      "range(0, 5)\n"
     ]
    }
   ],
   "source": [
    "numbers= range(5)\n",
    "print (numbers)"
   ]
  },
  {
   "cell_type": "code",
   "execution_count": 37,
   "id": "15bcba80-a60f-4883-bf0c-122199d3718f",
   "metadata": {},
   "outputs": [],
   "source": [
    "# counting numbers from 1-10"
   ]
  },
  {
   "cell_type": "code",
   "execution_count": 38,
   "id": "46855d35-ac91-458b-ba2e-b2667ced43f6",
   "metadata": {},
   "outputs": [
    {
     "name": "stdout",
     "output_type": "stream",
     "text": [
      "1\n",
      "2\n",
      "3\n",
      "4\n",
      "5\n",
      "6\n",
      "7\n",
      "8\n",
      "9\n",
      "10\n"
     ]
    }
   ],
   "source": [
    "i=1\n",
    "while i<=10:\n",
    "    print (i)\n",
    "    i=i+1"
   ]
  },
  {
   "cell_type": "code",
   "execution_count": 39,
   "id": "98f31e8c-977c-4d54-8678-a4390046120b",
   "metadata": {},
   "outputs": [],
   "source": [
    "# even numbers from 1-20"
   ]
  },
  {
   "cell_type": "code",
   "execution_count": 40,
   "id": "6e9eff41-7f7b-4748-a528-b264e01ce78c",
   "metadata": {},
   "outputs": [
    {
     "name": "stdout",
     "output_type": "stream",
     "text": [
      "2\n",
      "4\n",
      "6\n",
      "8\n",
      "10\n",
      "12\n",
      "14\n",
      "16\n",
      "18\n",
      "20\n"
     ]
    }
   ],
   "source": [
    "i=2\n",
    "while i<=20:\n",
    "    print(i)\n",
    "    i=i+2\n"
   ]
  },
  {
   "cell_type": "code",
   "execution_count": null,
   "id": "69d86d30-1b53-4bba-9d82-96112193d335",
   "metadata": {},
   "outputs": [],
   "source": [
    "#patterns of symbols- ascending and descending-WHILE LOOPS"
   ]
  },
  {
   "cell_type": "code",
   "execution_count": 41,
   "id": "232b3bf7-0d67-4c60-a788-5275f9a7a432",
   "metadata": {},
   "outputs": [
    {
     "name": "stdout",
     "output_type": "stream",
     "text": [
      "*\n",
      "**\n",
      "***\n",
      "****\n",
      "*****\n",
      "******\n"
     ]
    }
   ],
   "source": [
    "i=1\n",
    "while i<=6:\n",
    "    print (i * \"*\")\n",
    "    i=i+1"
   ]
  },
  {
   "cell_type": "code",
   "execution_count": 42,
   "id": "a3a9b395-2eb8-4080-922f-4468e046ed9b",
   "metadata": {},
   "outputs": [
    {
     "name": "stdout",
     "output_type": "stream",
     "text": [
      "*****\n",
      "****\n",
      "***\n",
      "**\n",
      "*\n",
      "\n"
     ]
    }
   ],
   "source": [
    "i=5\n",
    "while i>=0:\n",
    "    print (i * \"*\")\n",
    "    i=i-1"
   ]
  },
  {
   "cell_type": "code",
   "execution_count": 44,
   "id": "7940eb39-b08c-4294-82b9-fe9a9c4e349f",
   "metadata": {},
   "outputs": [
    {
     "name": "stdout",
     "output_type": "stream",
     "text": [
      "1\n",
      "2\n",
      "3\n",
      "4\n",
      "5\n",
      "6\n",
      "7\n",
      "8\n",
      "9\n",
      "10\n"
     ]
    }
   ],
   "source": [
    "for item in range(10):\n",
    "    print (item+1)"
   ]
  },
  {
   "cell_type": "code",
   "execution_count": 45,
   "id": "401d4655-6f8c-4ff6-9ad8-102ff3b9385f",
   "metadata": {},
   "outputs": [],
   "source": [
    "#List operations"
   ]
  },
  {
   "cell_type": "code",
   "execution_count": 50,
   "id": "c14d20b6-c396-4362-a794-a848a7e3d982",
   "metadata": {},
   "outputs": [
    {
     "name": "stdout",
     "output_type": "stream",
     "text": [
      "[95, 94]\n"
     ]
    }
   ],
   "source": [
    "marks= [95,94,93]\n",
    "print (marks [0:2])\n"
   ]
  },
  {
   "cell_type": "code",
   "execution_count": 51,
   "id": "cbed5466-f5f6-46ff-a435-d417b88b5081",
   "metadata": {},
   "outputs": [
    {
     "name": "stdout",
     "output_type": "stream",
     "text": [
      "95\n",
      "94\n",
      "93\n"
     ]
    }
   ],
   "source": [
    "for score in marks:\n",
    "    print (score)"
   ]
  },
  {
   "cell_type": "code",
   "execution_count": 52,
   "id": "ea1eed16-0c83-4462-b1b4-a366dd87e717",
   "metadata": {},
   "outputs": [
    {
     "name": "stdout",
     "output_type": "stream",
     "text": [
      "[95, 94, 93, 99]\n"
     ]
    }
   ],
   "source": [
    "marks. append (99)\n",
    "print (marks)"
   ]
  },
  {
   "cell_type": "code",
   "execution_count": 53,
   "id": "384d04f3-f747-4d7c-b615-9958b40cfbf5",
   "metadata": {},
   "outputs": [
    {
     "name": "stdout",
     "output_type": "stream",
     "text": [
      "[99, 95, 94, 93, 99]\n"
     ]
    }
   ],
   "source": [
    "marks.insert(0,99)\n",
    "print(marks)"
   ]
  },
  {
   "cell_type": "code",
   "execution_count": 54,
   "id": "a201de16-1567-4fd7-9a5c-f368b7068950",
   "metadata": {},
   "outputs": [
    {
     "name": "stdout",
     "output_type": "stream",
     "text": [
      "True\n"
     ]
    }
   ],
   "source": [
    "print (99 in marks)"
   ]
  },
  {
   "cell_type": "code",
   "execution_count": 55,
   "id": "fdaac539-8b03-4cef-9737-06a7351f299c",
   "metadata": {},
   "outputs": [
    {
     "name": "stdout",
     "output_type": "stream",
     "text": [
      "5\n"
     ]
    }
   ],
   "source": [
    "print (len(marks))"
   ]
  },
  {
   "cell_type": "code",
   "execution_count": 56,
   "id": "d8c78425-1f7b-4b0f-b6a5-681355ce30f4",
   "metadata": {},
   "outputs": [
    {
     "name": "stdout",
     "output_type": "stream",
     "text": [
      "99\n",
      "95\n",
      "94\n",
      "93\n",
      "99\n"
     ]
    }
   ],
   "source": [
    "i=0\n",
    "while i<len(marks):\n",
    "    print (marks[i])\n",
    "    i=i+1"
   ]
  },
  {
   "cell_type": "code",
   "execution_count": 57,
   "id": "f6cc612f-0089-4d36-bd1f-d144ca6aef2a",
   "metadata": {},
   "outputs": [
    {
     "name": "stdout",
     "output_type": "stream",
     "text": [
      "[]\n"
     ]
    }
   ],
   "source": [
    "marks.clear()\n",
    "print (marks)"
   ]
  },
  {
   "cell_type": "code",
   "execution_count": 58,
   "id": "52c8ba9e-e851-490a-ac2f-65f9b800cc92",
   "metadata": {},
   "outputs": [],
   "source": [
    "#Breaks and Continuity"
   ]
  },
  {
   "cell_type": "code",
   "execution_count": 62,
   "id": "20b397ef-dfa5-4480-b595-283e1ec0d6e5",
   "metadata": {},
   "outputs": [
    {
     "name": "stdout",
     "output_type": "stream",
     "text": [
      "ram\n",
      "shyam\n",
      "kishan\n"
     ]
    }
   ],
   "source": [
    "students = [\"ram\", \"shyam\", \"kishan\", \"radha\", \"radhika\"]\n",
    "for student in students:\n",
    "    if student == \"radha\":\n",
    "        break\n",
    "    print (student)"
   ]
  },
  {
   "cell_type": "code",
   "execution_count": 63,
   "id": "bd01576d-6df3-4d43-a6e5-bd3c4c2dba10",
   "metadata": {},
   "outputs": [
    {
     "name": "stdout",
     "output_type": "stream",
     "text": [
      "ram\n",
      "kishan\n",
      "radha\n",
      "radhika\n"
     ]
    }
   ],
   "source": [
    "students = [\"ram\", \"shyam\", \"kishan\", \"radha\", \"radhika\"]\n",
    "for student in students:\n",
    "    if student == \"shyam\":\n",
    "        continue\n",
    "    print (student)"
   ]
  },
  {
   "cell_type": "code",
   "execution_count": null,
   "id": "a62a8b41-85e8-45a5-8d2c-49bd6dd41226",
   "metadata": {},
   "outputs": [],
   "source": [
    "#FUNCTIONS-MODULE "
   ]
  },
  {
   "cell_type": "code",
   "execution_count": 74,
   "id": "f2c06d20-5b77-4da1-b82c-672e3527d0aa",
   "metadata": {},
   "outputs": [
    {
     "name": "stdout",
     "output_type": "stream",
     "text": [
      "['__doc__', '__loader__', '__name__', '__package__', '__spec__', 'acos', 'acosh', 'asin', 'asinh', 'atan', 'atan2', 'atanh', 'cbrt', 'ceil', 'comb', 'copysign', 'cos', 'cosh', 'degrees', 'dist', 'e', 'erf', 'erfc', 'exp', 'exp2', 'expm1', 'fabs', 'factorial', 'floor', 'fmod', 'frexp', 'fsum', 'gamma', 'gcd', 'hypot', 'inf', 'isclose', 'isfinite', 'isinf', 'isnan', 'isqrt', 'lcm', 'ldexp', 'lgamma', 'log', 'log10', 'log1p', 'log2', 'modf', 'nan', 'nextafter', 'perm', 'pi', 'pow', 'prod', 'radians', 'remainder', 'sin', 'sinh', 'sqrt', 'tan', 'tanh', 'tau', 'trunc', 'ulp']\n",
      "-1.995200412208242\n",
      "4.0\n",
      "2.302585092994046\n"
     ]
    }
   ],
   "source": [
    "import math\n",
    "print (dir(math))\n",
    "from math import sqrt\n",
    "from math import log\n",
    "from math import tan\n",
    "print (tan(90))\n",
    "print (sqrt (16))\n",
    "print (log(10))\n"
   ]
  },
  {
   "cell_type": "code",
   "execution_count": 79,
   "id": "115372af-7e70-4748-85d8-ad15aa58db0d",
   "metadata": {},
   "outputs": [
    {
     "name": "stdout",
     "output_type": "stream",
     "text": [
      "1.7320508075688772\n"
     ]
    }
   ],
   "source": [
    "import math\n",
    "from math import *\n",
    "print (sqrt(3))"
   ]
  },
  {
   "cell_type": "code",
   "execution_count": 80,
   "id": "4f9e8466-7131-4c0c-8f23-647d55a2e0d1",
   "metadata": {},
   "outputs": [],
   "source": [
    "# user based functions\n"
   ]
  },
  {
   "cell_type": "code",
   "execution_count": 81,
   "id": "ccf5554a-4247-44c5-a89a-9da50a59c986",
   "metadata": {},
   "outputs": [
    {
     "name": "stdout",
     "output_type": "stream",
     "text": [
      "3\n"
     ]
    }
   ],
   "source": [
    "def print_sum(first, second):\n",
    "    print(first + second)\n",
    "print_sum(1,2)"
   ]
  },
  {
   "cell_type": "code",
   "execution_count": 82,
   "id": "a8dfbbab-2581-4f78-b461-daab72ed0844",
   "metadata": {},
   "outputs": [
    {
     "name": "stdout",
     "output_type": "stream",
     "text": [
      "5\n"
     ]
    }
   ],
   "source": [
    "def print_sum(first, second=4):\n",
    "    print(first + second)\n",
    "print_sum(1)"
   ]
  },
  {
   "cell_type": "code",
   "execution_count": 83,
   "id": "0df95cd6-a630-44e7-963d-7cfcd2f78a8a",
   "metadata": {},
   "outputs": [
    {
     "name": "stdout",
     "output_type": "stream",
     "text": [
      "80\n"
     ]
    }
   ],
   "source": [
    "def print_multiply (first,second=20):\n",
    "    print(first *second)\n",
    "\n",
    "print_multiply(4)"
   ]
  },
  {
   "cell_type": "code",
   "execution_count": null,
   "id": "c852e0b1-ca40-4082-aa73-6ea769c721bc",
   "metadata": {},
   "outputs": [],
   "source": []
  }
 ],
 "metadata": {
  "kernelspec": {
   "display_name": "Python 3 (ipykernel)",
   "language": "python",
   "name": "python3"
  },
  "language_info": {
   "codemirror_mode": {
    "name": "ipython",
    "version": 3
   },
   "file_extension": ".py",
   "mimetype": "text/x-python",
   "name": "python",
   "nbconvert_exporter": "python",
   "pygments_lexer": "ipython3",
   "version": "3.11.5"
  }
 },
 "nbformat": 4,
 "nbformat_minor": 5
}
